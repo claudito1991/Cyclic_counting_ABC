{
 "cells": [
  {
   "cell_type": "code",
   "execution_count": 4,
   "metadata": {},
   "outputs": [],
   "source": [
    "import pandas as pd\n",
    "import calendar\n",
    "import sqlite3\n",
    "from datetime import datetime"
   ]
  },
  {
   "cell_type": "code",
   "execution_count": 6,
   "metadata": {},
   "outputs": [],
   "source": [
    "def convert_string_to_date(string_list):\n",
    "    date_list = [datetime.strptime(x, \"%d-%m-%y\") for x in string_list]\n",
    "    return date_list\n"
   ]
  },
  {
   "cell_type": "code",
   "execution_count": 8,
   "metadata": {},
   "outputs": [
    {
     "data": {
      "text/plain": [
       "[datetime.datetime(2023, 5, 5, 0, 0), datetime.datetime(2023, 5, 4, 0, 0)]"
      ]
     },
     "execution_count": 8,
     "metadata": {},
     "output_type": "execute_result"
    }
   ],
   "source": [
    "holidays_list"
   ]
  },
  {
   "cell_type": "code",
   "execution_count": 9,
   "metadata": {},
   "outputs": [],
   "source": [
    "def weekdays_list(month, year):\n",
    "    num_days = calendar.monthrange(year, month)[1]\n",
    "    days_list = [day for day in range(1, num_days+1) if calendar.weekday(year, month, day) != calendar.SUNDAY]\n",
    "    return days_list\n"
   ]
  },
  {
   "cell_type": "code",
   "execution_count": 12,
   "metadata": {},
   "outputs": [],
   "source": [
    "def generate_date_from_list(month, year, days_int_list):\n",
    "    dates_list = []\n",
    "    for i in days_int_list:\n",
    "        date = datetime(year=year, month=month, day=i)\n",
    "        dates_list.append(date)\n",
    "    return dates_list\n"
   ]
  },
  {
   "cell_type": "code",
   "execution_count": 27,
   "metadata": {},
   "outputs": [
    {
     "data": {
      "text/plain": [
       "[datetime.datetime(2023, 5, 1, 0, 0),\n",
       " datetime.datetime(2023, 5, 2, 0, 0),\n",
       " datetime.datetime(2023, 5, 3, 0, 0),\n",
       " datetime.datetime(2023, 5, 4, 0, 0),\n",
       " datetime.datetime(2023, 5, 5, 0, 0),\n",
       " datetime.datetime(2023, 5, 7, 0, 0),\n",
       " datetime.datetime(2023, 5, 8, 0, 0),\n",
       " datetime.datetime(2023, 5, 9, 0, 0),\n",
       " datetime.datetime(2023, 5, 10, 0, 0),\n",
       " datetime.datetime(2023, 5, 11, 0, 0),\n",
       " datetime.datetime(2023, 5, 12, 0, 0),\n",
       " datetime.datetime(2023, 5, 14, 0, 0),\n",
       " datetime.datetime(2023, 5, 15, 0, 0),\n",
       " datetime.datetime(2023, 5, 16, 0, 0),\n",
       " datetime.datetime(2023, 5, 17, 0, 0),\n",
       " datetime.datetime(2023, 5, 18, 0, 0),\n",
       " datetime.datetime(2023, 5, 19, 0, 0),\n",
       " datetime.datetime(2023, 5, 21, 0, 0),\n",
       " datetime.datetime(2023, 5, 22, 0, 0),\n",
       " datetime.datetime(2023, 5, 23, 0, 0),\n",
       " datetime.datetime(2023, 5, 24, 0, 0),\n",
       " datetime.datetime(2023, 5, 25, 0, 0),\n",
       " datetime.datetime(2023, 5, 26, 0, 0),\n",
       " datetime.datetime(2023, 5, 28, 0, 0),\n",
       " datetime.datetime(2023, 5, 29, 0, 0),\n",
       " datetime.datetime(2023, 5, 30, 0, 0)]"
      ]
     },
     "execution_count": 27,
     "metadata": {},
     "output_type": "execute_result"
    }
   ],
   "source": [
    "business_days_list"
   ]
  },
  {
   "cell_type": "code",
   "execution_count": 14,
   "metadata": {},
   "outputs": [],
   "source": [
    "def extract_holidays_from_weekdays(weekdays_of_month, holidays_of_month):\n",
    "    real_business_days = []\n",
    "    for i in weekdays_of_month:\n",
    "        if i in holidays_of_month:\n",
    "            continue\n",
    "        else:\n",
    "            real_business_days.append(i)\n",
    "    return real_business_days\n"
   ]
  },
  {
   "cell_type": "code",
   "execution_count": 20,
   "metadata": {},
   "outputs": [],
   "source": [
    "def convert_date_object_to_string(date):\n",
    "    date_string = date.strftime('%d/%m/%Y')\n",
    "    return date_string"
   ]
  },
  {
   "cell_type": "code",
   "execution_count": 30,
   "metadata": {},
   "outputs": [],
   "source": [
    "def create_list_of_dates(real_business_days_list):\n",
    "    real_business = []\n",
    "    for i in real_business_days_list:\n",
    "        real_business.append(convert_date_object_to_string(i))\n",
    "        print(i)\n",
    "    return real_business"
   ]
  },
  {
   "cell_type": "code",
   "execution_count": 5,
   "metadata": {},
   "outputs": [],
   "source": [
    "holidays = [\"05-05-23\",\"04-05-23\"]"
   ]
  },
  {
   "cell_type": "code",
   "execution_count": 7,
   "metadata": {},
   "outputs": [],
   "source": [
    "holidays_list = convert_string_to_date(holidays)"
   ]
  },
  {
   "cell_type": "code",
   "execution_count": 11,
   "metadata": {},
   "outputs": [],
   "source": [
    "days_list = weekdays_list(5,2023)"
   ]
  },
  {
   "cell_type": "code",
   "execution_count": 13,
   "metadata": {},
   "outputs": [],
   "source": [
    "business_days_list = generate_date_from_list(5,2023,days_list)"
   ]
  },
  {
   "cell_type": "code",
   "execution_count": 15,
   "metadata": {},
   "outputs": [],
   "source": [
    "real_business=extract_holidays_from_weekdays(business_days_list, holidays_list)"
   ]
  },
  {
   "cell_type": "code",
   "execution_count": 41,
   "metadata": {},
   "outputs": [
    {
     "name": "stdout",
     "output_type": "stream",
     "text": [
      "2023-05-01 00:00:00\n",
      "2023-05-02 00:00:00\n",
      "2023-05-03 00:00:00\n",
      "2023-05-07 00:00:00\n",
      "2023-05-08 00:00:00\n",
      "2023-05-09 00:00:00\n",
      "2023-05-10 00:00:00\n",
      "2023-05-11 00:00:00\n",
      "2023-05-12 00:00:00\n",
      "2023-05-14 00:00:00\n",
      "2023-05-15 00:00:00\n",
      "2023-05-16 00:00:00\n",
      "2023-05-17 00:00:00\n",
      "2023-05-18 00:00:00\n",
      "2023-05-19 00:00:00\n",
      "2023-05-21 00:00:00\n",
      "2023-05-22 00:00:00\n",
      "2023-05-23 00:00:00\n",
      "2023-05-24 00:00:00\n",
      "2023-05-25 00:00:00\n",
      "2023-05-26 00:00:00\n",
      "2023-05-28 00:00:00\n",
      "2023-05-29 00:00:00\n",
      "2023-05-30 00:00:00\n"
     ]
    }
   ],
   "source": [
    "list_of_dates = create_list_of_dates(real_business)"
   ]
  },
  {
   "cell_type": "code",
   "execution_count": 23,
   "metadata": {},
   "outputs": [],
   "source": [
    "def create_dataframe_dictionary(lista):\n",
    "    dataframe_dict = dict()\n",
    "    for i in lista:\n",
    "      date = i.replace(\"/\",\"-\")\n",
    "      dataframe_dict[date] = pd.DataFrame(columns=[\"articulo\",\"descripcion\",\"chess\",\"wms\",\"fisico\"])\n",
    "    return dataframe_dict"
   ]
  },
  {
   "cell_type": "code",
   "execution_count": 43,
   "metadata": {},
   "outputs": [],
   "source": [
    "dictionary = create_dataframe_dictionary(list_of_dates)"
   ]
  },
  {
   "cell_type": "code",
   "execution_count": 44,
   "metadata": {},
   "outputs": [
    {
     "data": {
      "text/plain": [
       "dict_keys(['01-05-2023', '02-05-2023', '03-05-2023', '07-05-2023', '08-05-2023', '09-05-2023', '10-05-2023', '11-05-2023', '12-05-2023', '14-05-2023', '15-05-2023', '16-05-2023', '17-05-2023', '18-05-2023', '19-05-2023', '21-05-2023', '22-05-2023', '23-05-2023', '24-05-2023', '25-05-2023', '26-05-2023', '28-05-2023', '29-05-2023', '30-05-2023'])"
      ]
     },
     "execution_count": 44,
     "metadata": {},
     "output_type": "execute_result"
    }
   ],
   "source": [
    "dictionary.keys()"
   ]
  },
  {
   "cell_type": "code",
   "execution_count": null,
   "metadata": {},
   "outputs": [],
   "source": []
  }
 ],
 "metadata": {
  "kernelspec": {
   "display_name": "PythonML",
   "language": "python",
   "name": "python3"
  },
  "language_info": {
   "codemirror_mode": {
    "name": "ipython",
    "version": 3
   },
   "file_extension": ".py",
   "mimetype": "text/x-python",
   "name": "python",
   "nbconvert_exporter": "python",
   "pygments_lexer": "ipython3",
   "version": "3.9.7"
  },
  "orig_nbformat": 4
 },
 "nbformat": 4,
 "nbformat_minor": 2
}
