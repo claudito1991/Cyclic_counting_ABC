{
 "cells": [
  {
   "cell_type": "code",
   "execution_count": 15,
   "metadata": {},
   "outputs": [],
   "source": [
    "import pandas as pd\n",
    "import os.path"
   ]
  },
  {
   "cell_type": "code",
   "execution_count": 21,
   "metadata": {},
   "outputs": [],
   "source": [
    "#using relative path to abc file\n",
    "fullpath = os.path.abspath('../conteo_ciclico_may_2023//abc_mayo_23.xlsx')"
   ]
  },
  {
   "cell_type": "code",
   "execution_count": 20,
   "metadata": {},
   "outputs": [],
   "source": [
    "df_clasificacion = pd.read_excel(fullpath, sheet_name=\"Hoja1\")"
   ]
  },
  {
   "cell_type": "code",
   "execution_count": 22,
   "metadata": {},
   "outputs": [],
   "source": [
    "#filtering desired columns and rows\n",
    "\n",
    "df_abc = df_clasificacion[['articulo','descripcion','clasificacion']]\n",
    "df_abc = df_abc.dropna()"
   ]
  },
  {
   "cell_type": "code",
   "execution_count": 26,
   "metadata": {},
   "outputs": [],
   "source": [
    "#adding count quantity for each code based on ABC\n",
    "def cantidad_segun_abc(df):\n",
    "    lista_cantidad = []\n",
    "    for i in df['clasificacion']:\n",
    "        if i == \"A\":\n",
    "            lista_cantidad.append(3)\n",
    "        elif i==\"B\":\n",
    "            lista_cantidad.append(2)\n",
    "        else:\n",
    "            lista_cantidad.append(1)\n",
    "    df['cantidad'] = lista_cantidad\n",
    "    return df\n"
   ]
  },
  {
   "cell_type": "code",
   "execution_count": 24,
   "metadata": {},
   "outputs": [],
   "source": [
    "df_abc_base = cantidad_segun_abc(df_abc)"
   ]
  },
  {
   "cell_type": "code",
   "execution_count": 25,
   "metadata": {},
   "outputs": [
    {
     "data": {
      "text/html": [
       "<div>\n",
       "<style scoped>\n",
       "    .dataframe tbody tr th:only-of-type {\n",
       "        vertical-align: middle;\n",
       "    }\n",
       "\n",
       "    .dataframe tbody tr th {\n",
       "        vertical-align: top;\n",
       "    }\n",
       "\n",
       "    .dataframe thead th {\n",
       "        text-align: right;\n",
       "    }\n",
       "</style>\n",
       "<table border=\"1\" class=\"dataframe\">\n",
       "  <thead>\n",
       "    <tr style=\"text-align: right;\">\n",
       "      <th></th>\n",
       "      <th>articulo</th>\n",
       "      <th>descripcion</th>\n",
       "      <th>clasificacion</th>\n",
       "      <th>cantidad</th>\n",
       "    </tr>\n",
       "  </thead>\n",
       "  <tbody>\n",
       "    <tr>\n",
       "      <th>0</th>\n",
       "      <td>7038</td>\n",
       "      <td>BRAHMA - X12 1000RET#</td>\n",
       "      <td>A</td>\n",
       "      <td>3</td>\n",
       "    </tr>\n",
       "    <tr>\n",
       "      <th>1</th>\n",
       "      <td>25668</td>\n",
       "      <td>PEPSI NF PET X6 500CC</td>\n",
       "      <td>A</td>\n",
       "      <td>3</td>\n",
       "    </tr>\n",
       "    <tr>\n",
       "      <th>2</th>\n",
       "      <td>7634</td>\n",
       "      <td>BRAHMA - 4X6 LAT 473</td>\n",
       "      <td>A</td>\n",
       "      <td>3</td>\n",
       "    </tr>\n",
       "    <tr>\n",
       "      <th>3</th>\n",
       "      <td>25644</td>\n",
       "      <td>7-UP NF PET X6 500CC</td>\n",
       "      <td>A</td>\n",
       "      <td>3</td>\n",
       "    </tr>\n",
       "    <tr>\n",
       "      <th>4</th>\n",
       "      <td>7026</td>\n",
       "      <td>QUILMES - X12 1000RET</td>\n",
       "      <td>A</td>\n",
       "      <td>3</td>\n",
       "    </tr>\n",
       "    <tr>\n",
       "      <th>...</th>\n",
       "      <td>...</td>\n",
       "      <td>...</td>\n",
       "      <td>...</td>\n",
       "      <td>...</td>\n",
       "    </tr>\n",
       "    <tr>\n",
       "      <th>318</th>\n",
       "      <td>78068</td>\n",
       "      <td>STA MAZO DE CARTAS BUDWEISER</td>\n",
       "      <td>C</td>\n",
       "      <td>1</td>\n",
       "    </tr>\n",
       "    <tr>\n",
       "      <th>320</th>\n",
       "      <td>78131</td>\n",
       "      <td>VINO MALBEC MISTERIO X6 0,750 L</td>\n",
       "      <td>C</td>\n",
       "      <td>1</td>\n",
       "    </tr>\n",
       "    <tr>\n",
       "      <th>321</th>\n",
       "      <td>78141</td>\n",
       "      <td>TOSTADAS DE ARROZ MOLINOS ALA X24 150GR</td>\n",
       "      <td>C</td>\n",
       "      <td>1</td>\n",
       "    </tr>\n",
       "    <tr>\n",
       "      <th>325</th>\n",
       "      <td>78233</td>\n",
       "      <td>YERBA MATE CACHAMATE X12 500GR</td>\n",
       "      <td>C</td>\n",
       "      <td>1</td>\n",
       "    </tr>\n",
       "    <tr>\n",
       "      <th>326</th>\n",
       "      <td>78244</td>\n",
       "      <td>STA HAMACA CORONA 2021</td>\n",
       "      <td>C</td>\n",
       "      <td>1</td>\n",
       "    </tr>\n",
       "  </tbody>\n",
       "</table>\n",
       "<p>225 rows × 4 columns</p>\n",
       "</div>"
      ],
      "text/plain": [
       "     articulo                              descripcion clasificacion  cantidad\n",
       "0        7038                    BRAHMA - X12 1000RET#             A         3\n",
       "1       25668                    PEPSI NF PET X6 500CC             A         3\n",
       "2        7634                     BRAHMA - 4X6 LAT 473             A         3\n",
       "3       25644                     7-UP NF PET X6 500CC             A         3\n",
       "4        7026                    QUILMES - X12 1000RET             A         3\n",
       "..        ...                                      ...           ...       ...\n",
       "318     78068             STA MAZO DE CARTAS BUDWEISER             C         1\n",
       "320     78131          VINO MALBEC MISTERIO X6 0,750 L             C         1\n",
       "321     78141  TOSTADAS DE ARROZ MOLINOS ALA X24 150GR             C         1\n",
       "325     78233           YERBA MATE CACHAMATE X12 500GR             C         1\n",
       "326     78244                   STA HAMACA CORONA 2021             C         1\n",
       "\n",
       "[225 rows x 4 columns]"
      ]
     },
     "execution_count": 25,
     "metadata": {},
     "output_type": "execute_result"
    }
   ],
   "source": [
    "df_abc_base"
   ]
  },
  {
   "cell_type": "code",
   "execution_count": null,
   "metadata": {},
   "outputs": [],
   "source": []
  }
 ],
 "metadata": {
  "kernelspec": {
   "display_name": "data_env",
   "language": "python",
   "name": "python3"
  },
  "language_info": {
   "codemirror_mode": {
    "name": "ipython",
    "version": 3
   },
   "file_extension": ".py",
   "mimetype": "text/x-python",
   "name": "python",
   "nbconvert_exporter": "python",
   "pygments_lexer": "ipython3",
   "version": "3.9.7"
  },
  "orig_nbformat": 4
 },
 "nbformat": 4,
 "nbformat_minor": 2
}
