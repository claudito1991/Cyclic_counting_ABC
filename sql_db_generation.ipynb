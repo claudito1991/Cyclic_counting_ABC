{
 "cells": [
  {
   "cell_type": "code",
   "execution_count": 1,
   "metadata": {},
   "outputs": [],
   "source": [
    "\n",
    "import sqlite3  \n"
   ]
  },
  {
   "cell_type": "code",
   "execution_count": 2,
   "metadata": {},
   "outputs": [],
   "source": [
    "def create_db(db_name, table_name):\n",
    "# create a database \n",
    "    cnt = sqlite3.connect(db_name)  \n",
    "    # create a table \n",
    "    cnt.execute(f'''CREATE TABLE IF NOT EXISTS {table_name}(\n",
    "        ARTICULO INT PRIMARY KEY,\n",
    "        DESCRIPCION TEXT,\n",
    "        CLASIFICACION TEXT,\n",
    "        CANTIDAD INTEGER NOT NULL);''')\n",
    "    \n",
    "\n",
    "    cnt.commit()\n",
    "    cnt.close()"
   ]
  },
  {
   "cell_type": "code",
   "execution_count": 3,
   "metadata": {},
   "outputs": [],
   "source": [
    "def insert_article_df_into_db(db_name,table_name):\n",
    "    cnt = sqlite3.connect(db_name)\n",
    "    dataframe.to_sql(table_name,cnt,if_exists='replace',index=False)\n",
    "    cnt.commit()\n",
    "    cnt.close()"
   ]
  },
  {
   "cell_type": "code",
   "execution_count": 19,
   "metadata": {},
   "outputs": [],
   "source": [
    "def reset_database_quantity_for_article(db_name, table_name):\n",
    "    cnt = sqlite3.connect(db_name)\n",
    "    query = cnt.execute (f\"\"\"UPDATE {table_name}\n",
    "                        SET CANTIDAD = 1\n",
    "                        WHERE CLASIFICACION = 'C' \"\"\")\n",
    "    query = cnt.execute (f\"\"\"UPDATE {table_name}\n",
    "                        SET CANTIDAD = 2\n",
    "                        WHERE CLASIFICACION = 'B' \"\"\")\n",
    "    query = cnt.execute (f\"\"\"UPDATE {table_name}\n",
    "                        SET CANTIDAD = 3\n",
    "                        WHERE CLASIFICACION = 'A' \"\"\")\n",
    "    cnt.commit()  \n",
    "    cnt.close()"
   ]
  },
  {
   "cell_type": "code",
   "execution_count": 5,
   "metadata": {},
   "outputs": [],
   "source": [
    "create_db(\"quantity.db\", \"data_articles\")"
   ]
  },
  {
   "cell_type": "code",
   "execution_count": 18,
   "metadata": {},
   "outputs": [],
   "source": [
    "reset_database_quantity_for_article(\"abc_quantity.db\",\"abc\")"
   ]
  },
  {
   "cell_type": "code",
   "execution_count": 12,
   "metadata": {},
   "outputs": [],
   "source": [
    "def check_if_category_has_quantity(db_name, table_name, category):\n",
    "    cnt = sqlite3.connect(db_name)\n",
    "    query = cnt.execute(\n",
    "        f\"\"\" SELECT COUNT(*)\n",
    "            FROM {table_name}\n",
    "            WHERE CLASIFICACION = '{category}' AND CANTIDAD > 0; \"\"\"\n",
    "    )\n",
    "\n",
    "    if query.fetchone()[0] > 0:\n",
    "        return True\n",
    "    else:\n",
    "        return False"
   ]
  },
  {
   "cell_type": "code",
   "execution_count": 13,
   "metadata": {},
   "outputs": [
    {
     "data": {
      "text/plain": [
       "True"
      ]
     },
     "execution_count": 13,
     "metadata": {},
     "output_type": "execute_result"
    }
   ],
   "source": [
    "check_if_category_has_quantity(\"abc_quantity.db\",\"abc\",\"A\")"
   ]
  },
  {
   "cell_type": "code",
   "execution_count": 15,
   "metadata": {},
   "outputs": [],
   "source": [
    "cnt = sqlite3.connect(\"abc_quantity.db\")\n",
    "query = cnt.execute(\n",
    "        f\"\"\" SELECT COUNT(*)\n",
    "            FROM \"abc\"\n",
    "            WHERE CLASIFICACION = 'A' AND CANTIDAD > 0; \"\"\"\n",
    "    )"
   ]
  },
  {
   "cell_type": "code",
   "execution_count": 16,
   "metadata": {},
   "outputs": [
    {
     "data": {
      "text/plain": [
       "18"
      ]
     },
     "execution_count": 16,
     "metadata": {},
     "output_type": "execute_result"
    }
   ],
   "source": [
    "query.fetchone()[0]"
   ]
  },
  {
   "cell_type": "code",
   "execution_count": null,
   "metadata": {},
   "outputs": [],
   "source": []
  }
 ],
 "metadata": {
  "kernelspec": {
   "display_name": "data_env",
   "language": "python",
   "name": "python3"
  },
  "language_info": {
   "codemirror_mode": {
    "name": "ipython",
    "version": 3
   },
   "file_extension": ".py",
   "mimetype": "text/x-python",
   "name": "python",
   "nbconvert_exporter": "python",
   "pygments_lexer": "ipython3",
   "version": "3.9.7"
  },
  "orig_nbformat": 4
 },
 "nbformat": 4,
 "nbformat_minor": 2
}
