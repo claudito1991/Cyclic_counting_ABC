{
 "cells": [
  {
   "attachments": {},
   "cell_type": "markdown",
   "metadata": {},
   "source": [
    "## Imports\n",
    "all the requirements for the project. This includes own code. "
   ]
  },
  {
   "cell_type": "code",
   "execution_count": 1,
   "metadata": {},
   "outputs": [],
   "source": [
    "import dates_generation as dg\n",
    "import os.path\n",
    "import pandas as pd\n",
    "import xlsxwriter\n",
    "import dataframe_class_base as dcb\n",
    "import sqlite_db_generation as sqlgen\n",
    "import sqlite3\n",
    "import math\n",
    "import random\n",
    "import main_process_functions as mpf"
   ]
  },
  {
   "attachments": {},
   "cell_type": "markdown",
   "metadata": {},
   "source": [
    "## Dates generation\n",
    "\n",
    "Generating dictionary with business days where the counting will take place and taking into account the holidays of the month\n"
   ]
  },
  {
   "cell_type": "code",
   "execution_count": 2,
   "metadata": {},
   "outputs": [],
   "source": [
    "holidays = [\"05-05-23\", \"04-05-23\"]"
   ]
  },
  {
   "cell_type": "code",
   "execution_count": 3,
   "metadata": {},
   "outputs": [],
   "source": [
    "dates_dictionary = dg.date_generation_process(5, 2023, holidays)"
   ]
  },
  {
   "attachments": {},
   "cell_type": "markdown",
   "metadata": {},
   "source": [
    "## Dataframe base ABC clasification\n",
    "\n",
    "Loading ABC base file and generating dataframe with abc clasificacion and the quantity that we have to count for each product"
   ]
  },
  {
   "cell_type": "code",
   "execution_count": 4,
   "metadata": {},
   "outputs": [],
   "source": [
    "# read ABC base file whith products and its clasification\n",
    "fullpath = os.path.abspath(\".//abc_mayo_23.xlsx\")\n",
    "\n",
    "df_clasificacion = pd.read_excel(fullpath, sheet_name=\"Hoja1\")"
   ]
  },
  {
   "cell_type": "code",
   "execution_count": 5,
   "metadata": {},
   "outputs": [],
   "source": [
    "df_abc = dcb.cantidad_segun_abc(df_clasificacion)"
   ]
  },
  {
   "attachments": {},
   "cell_type": "markdown",
   "metadata": {},
   "source": [
    "## DB Operations\n",
    "\n",
    "Database creation. Testing of database related functions such as creating database and inserting dataframe rows to that database. Removing quantity from article, selecting random article  and checking if article has any quantity available for counting yet.\n"
   ]
  },
  {
   "cell_type": "code",
   "execution_count": null,
   "metadata": {},
   "outputs": [],
   "source": []
  },
  {
   "cell_type": "code",
   "execution_count": 6,
   "metadata": {},
   "outputs": [],
   "source": [
    "sqlgen.create_db(\"abc_quantity.db\", \"abc\")\n",
    "sqlgen.insert_article_df_into_db(df_abc, \"abc_quantity.db\", \"abc\")\n",
    "\n"
   ]
  },
  {
   "cell_type": "code",
   "execution_count": 7,
   "metadata": {},
   "outputs": [],
   "source": [
    "sqlgen.reset_database_quantity_for_article(\"abc_quantity.db\", \"abc\")"
   ]
  },
  {
   "cell_type": "code",
   "execution_count": 8,
   "metadata": {},
   "outputs": [
    {
     "name": "stdout",
     "output_type": "stream",
     "text": [
      "(25668, 'PEPSI NF PET X6 500CC', 'A', 3)\n"
     ]
    }
   ],
   "source": [
    "sqlgen.select_an_article(\"abc_quantity.db\", \"abc\", 25668)"
   ]
  },
  {
   "cell_type": "code",
   "execution_count": 9,
   "metadata": {},
   "outputs": [],
   "source": [
    "random_art = sqlgen.select_random_article(\"abc_quantity.db\", \"abc\", \"A\")"
   ]
  },
  {
   "cell_type": "code",
   "execution_count": 10,
   "metadata": {},
   "outputs": [
    {
     "data": {
      "text/plain": [
       "True"
      ]
     },
     "execution_count": 10,
     "metadata": {},
     "output_type": "execute_result"
    }
   ],
   "source": [
    "sqlgen.check_if_article_has_quantity(\"abc_quantity.db\", \"abc\", random_art[0])"
   ]
  },
  {
   "cell_type": "code",
   "execution_count": 11,
   "metadata": {},
   "outputs": [],
   "source": [
    "a_articles_per_day = sqlgen.get_max_per_category_per_day(\"abc_quantity.db\", \"abc\",dates_dictionary,\"A\")\n",
    "b_articles_per_day = sqlgen.get_max_per_category_per_day(\"abc_quantity.db\", \"abc\",dates_dictionary,\"B\")\n",
    "c_articles_per_day = sqlgen.get_max_per_category_per_day(\"abc_quantity.db\", \"abc\",dates_dictionary,\"C\")\n"
   ]
  },
  {
   "attachments": {},
   "cell_type": "markdown",
   "metadata": {},
   "source": [
    "## Testing full cycle\n",
    "To test full cycle we will restart the database, make the random selection of items for each day and assign to dataframe. Then there is a for-loop to check the amount of product each day to be able to verify the balance and a last check to assure the state of quantity in the database.\n",
    "\n",
    "If the program works as expected the list should be quite balanced regarding amount of items to count each day and the last check should give *FALSE* status because there are no items left to be counted."
   ]
  },
  {
   "cell_type": "code",
   "execution_count": 12,
   "metadata": {},
   "outputs": [],
   "source": [
    "dates_dictionary = dg.date_generation_process(5, 2023, holidays)\n",
    "sqlgen.reset_database_quantity_for_article(\"abc_quantity.db\", \"abc\")\n"
   ]
  },
  {
   "cell_type": "code",
   "execution_count": 13,
   "metadata": {},
   "outputs": [],
   "source": [
    "dictionary_output = mpf.Assignation_process(dates_dictionary, a_articles_per_day,b_articles_per_day,c_articles_per_day)"
   ]
  },
  {
   "cell_type": "code",
   "execution_count": 14,
   "metadata": {},
   "outputs": [
    {
     "name": "stdout",
     "output_type": "stream",
     "text": [
      "01-05-2023 14\n",
      "02-05-2023 14\n",
      "03-05-2023 14\n",
      "06-05-2023 14\n",
      "08-05-2023 14\n",
      "09-05-2023 14\n",
      "10-05-2023 14\n",
      "11-05-2023 12\n",
      "12-05-2023 14\n",
      "13-05-2023 14\n",
      "15-05-2023 14\n",
      "16-05-2023 14\n",
      "17-05-2023 14\n",
      "18-05-2023 14\n",
      "19-05-2023 14\n",
      "20-05-2023 14\n",
      "22-05-2023 5\n",
      "23-05-2023 11\n",
      "24-05-2023 14\n",
      "25-05-2023 14\n",
      "26-05-2023 14\n",
      "27-05-2023 14\n",
      "29-05-2023 10\n",
      "30-05-2023 14\n",
      "31-05-2023 11\n"
     ]
    }
   ],
   "source": [
    "for i in dictionary_output:\n",
    "    print(i, len(dictionary_output[i]))"
   ]
  },
  {
   "cell_type": "code",
   "execution_count": 15,
   "metadata": {},
   "outputs": [
    {
     "data": {
      "text/plain": [
       "False"
      ]
     },
     "execution_count": 15,
     "metadata": {},
     "output_type": "execute_result"
    }
   ],
   "source": [
    "sqlgen.check_if_item_without_count(\"abc_quantity.db\",\"abc\")"
   ]
  },
  {
   "attachments": {},
   "cell_type": "markdown",
   "metadata": {},
   "source": [
    "## File saving\n",
    " Save dataframes to single excel file"
   ]
  },
  {
   "cell_type": "code",
   "execution_count": 17,
   "metadata": {},
   "outputs": [],
   "source": [
    "file_name = \"planilla_procesada\"\n",
    "writer = pd.ExcelWriter(file_name + \".xlsx\", engine=\"xlsxwriter\")\n",
    "\n",
    "\n",
    "for i in dates_dictionary:\n",
    "    dates_dictionary[i].to_excel(writer, sheet_name=i)\n",
    "    workbook = writer.book\n",
    "    worksheet = writer.sheets[i]\n",
    "    cell_format = workbook.add_format({\"border\": 1})\n",
    "\n",
    "    for j in range(140):\n",
    "        worksheet.set_row(j, 25, cell_format)\n",
    "        worksheet.set_column(j, width=10, last_col=12)\n",
    "        if j == 1:\n",
    "            worksheet.set_column(j, width=42, last_col=12)\n",
    "writer.close()"
   ]
  },
  {
   "cell_type": "code",
   "execution_count": null,
   "metadata": {},
   "outputs": [],
   "source": []
  }
 ],
 "metadata": {
  "kernelspec": {
   "display_name": "data_env",
   "language": "python",
   "name": "python3"
  },
  "language_info": {
   "codemirror_mode": {
    "name": "ipython",
    "version": 3
   },
   "file_extension": ".py",
   "mimetype": "text/x-python",
   "name": "python",
   "nbconvert_exporter": "python",
   "pygments_lexer": "ipython3",
   "version": "3.9.7"
  },
  "orig_nbformat": 4
 },
 "nbformat": 4,
 "nbformat_minor": 2
}
