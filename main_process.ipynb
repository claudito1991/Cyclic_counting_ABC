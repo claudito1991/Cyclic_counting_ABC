{
 "cells": [
  {
   "cell_type": "code",
   "execution_count": 1,
   "metadata": {},
   "outputs": [],
   "source": [
    "import dates_generation as dg\n",
    "import os.path\n",
    "import pandas as pd"
   ]
  },
  {
   "attachments": {},
   "cell_type": "markdown",
   "metadata": {},
   "source": [
    "Dates generation\n"
   ]
  },
  {
   "cell_type": "code",
   "execution_count": 2,
   "metadata": {},
   "outputs": [],
   "source": [
    "def date_generation_process(month, year, holidays_list):\n",
    "    holidays_list = dg.convert_string_to_date(holidays)\n",
    "    days_list = dg.weekdays_list(month, year)\n",
    "    business_days_list = dg.generate_date_from_list(month, year, days_list)\n",
    "    real_business = dg.extract_holidays_from_weekdays(business_days_list, holidays_list)\n",
    "    list_of_dates = dg.create_list_of_dates(real_business)\n",
    "    dictionary = dg.create_dataframe_dictionary(list_of_dates)\n",
    "    return dictionary"
   ]
  },
  {
   "cell_type": "code",
   "execution_count": 3,
   "metadata": {},
   "outputs": [],
   "source": [
    "holidays = [\"05-05-23\", \"04-05-23\"]"
   ]
  },
  {
   "cell_type": "code",
   "execution_count": 4,
   "metadata": {},
   "outputs": [
    {
     "name": "stdout",
     "output_type": "stream",
     "text": [
      "2023-05-01 00:00:00\n",
      "2023-05-02 00:00:00\n",
      "2023-05-03 00:00:00\n",
      "2023-05-06 00:00:00\n",
      "2023-05-08 00:00:00\n",
      "2023-05-09 00:00:00\n",
      "2023-05-10 00:00:00\n",
      "2023-05-11 00:00:00\n",
      "2023-05-12 00:00:00\n",
      "2023-05-13 00:00:00\n",
      "2023-05-15 00:00:00\n",
      "2023-05-16 00:00:00\n",
      "2023-05-17 00:00:00\n",
      "2023-05-18 00:00:00\n",
      "2023-05-19 00:00:00\n",
      "2023-05-20 00:00:00\n",
      "2023-05-22 00:00:00\n",
      "2023-05-23 00:00:00\n",
      "2023-05-24 00:00:00\n",
      "2023-05-25 00:00:00\n",
      "2023-05-26 00:00:00\n",
      "2023-05-27 00:00:00\n",
      "2023-05-29 00:00:00\n",
      "2023-05-30 00:00:00\n",
      "2023-05-31 00:00:00\n"
     ]
    }
   ],
   "source": [
    "dates_dictionary = date_generation_process(5, 2023, holidays)"
   ]
  },
  {
   "cell_type": "code",
   "execution_count": 5,
   "metadata": {},
   "outputs": [
    {
     "data": {
      "text/html": [
       "<div>\n",
       "<style scoped>\n",
       "    .dataframe tbody tr th:only-of-type {\n",
       "        vertical-align: middle;\n",
       "    }\n",
       "\n",
       "    .dataframe tbody tr th {\n",
       "        vertical-align: top;\n",
       "    }\n",
       "\n",
       "    .dataframe thead th {\n",
       "        text-align: right;\n",
       "    }\n",
       "</style>\n",
       "<table border=\"1\" class=\"dataframe\">\n",
       "  <thead>\n",
       "    <tr style=\"text-align: right;\">\n",
       "      <th></th>\n",
       "      <th>articulo</th>\n",
       "      <th>descripcion</th>\n",
       "      <th>chess</th>\n",
       "      <th>wms</th>\n",
       "      <th>fisico</th>\n",
       "    </tr>\n",
       "  </thead>\n",
       "  <tbody>\n",
       "  </tbody>\n",
       "</table>\n",
       "</div>"
      ],
      "text/plain": [
       "Empty DataFrame\n",
       "Columns: [articulo, descripcion, chess, wms, fisico]\n",
       "Index: []"
      ]
     },
     "execution_count": 5,
     "metadata": {},
     "output_type": "execute_result"
    }
   ],
   "source": [
    "dates_dictionary[\"01-05-2023\"]"
   ]
  },
  {
   "attachments": {},
   "cell_type": "markdown",
   "metadata": {},
   "source": [
    "Dataframe base ABC clasification\n"
   ]
  },
  {
   "cell_type": "code",
   "execution_count": 6,
   "metadata": {},
   "outputs": [],
   "source": [
    "import dataframe_class_base as dcb"
   ]
  },
  {
   "cell_type": "code",
   "execution_count": 7,
   "metadata": {},
   "outputs": [],
   "source": [
    "# read ABC base file\n",
    "fullpath = os.path.abspath(\".//abc_mayo_23.xlsx\")\n",
    "\n",
    "df_clasificacion = pd.read_excel(fullpath, sheet_name=\"Hoja1\")"
   ]
  },
  {
   "cell_type": "code",
   "execution_count": 8,
   "metadata": {},
   "outputs": [],
   "source": [
    "df_abc = dcb.cantidad_segun_abc(df_clasificacion)"
   ]
  },
  {
   "cell_type": "code",
   "execution_count": 9,
   "metadata": {},
   "outputs": [
    {
     "data": {
      "text/html": [
       "<div>\n",
       "<style scoped>\n",
       "    .dataframe tbody tr th:only-of-type {\n",
       "        vertical-align: middle;\n",
       "    }\n",
       "\n",
       "    .dataframe tbody tr th {\n",
       "        vertical-align: top;\n",
       "    }\n",
       "\n",
       "    .dataframe thead th {\n",
       "        text-align: right;\n",
       "    }\n",
       "</style>\n",
       "<table border=\"1\" class=\"dataframe\">\n",
       "  <thead>\n",
       "    <tr style=\"text-align: right;\">\n",
       "      <th></th>\n",
       "      <th>articulo</th>\n",
       "      <th>descripcion</th>\n",
       "      <th>clasificacion</th>\n",
       "      <th>cantidad</th>\n",
       "    </tr>\n",
       "  </thead>\n",
       "  <tbody>\n",
       "    <tr>\n",
       "      <th>0</th>\n",
       "      <td>7038</td>\n",
       "      <td>BRAHMA - X12 1000RET#</td>\n",
       "      <td>A</td>\n",
       "      <td>3</td>\n",
       "    </tr>\n",
       "    <tr>\n",
       "      <th>1</th>\n",
       "      <td>25668</td>\n",
       "      <td>PEPSI NF PET X6 500CC</td>\n",
       "      <td>A</td>\n",
       "      <td>3</td>\n",
       "    </tr>\n",
       "    <tr>\n",
       "      <th>2</th>\n",
       "      <td>7634</td>\n",
       "      <td>BRAHMA - 4X6 LAT 473</td>\n",
       "      <td>A</td>\n",
       "      <td>3</td>\n",
       "    </tr>\n",
       "    <tr>\n",
       "      <th>3</th>\n",
       "      <td>25644</td>\n",
       "      <td>7-UP NF PET X6 500CC</td>\n",
       "      <td>A</td>\n",
       "      <td>3</td>\n",
       "    </tr>\n",
       "    <tr>\n",
       "      <th>4</th>\n",
       "      <td>7026</td>\n",
       "      <td>QUILMES - X12 1000RET</td>\n",
       "      <td>A</td>\n",
       "      <td>3</td>\n",
       "    </tr>\n",
       "    <tr>\n",
       "      <th>...</th>\n",
       "      <td>...</td>\n",
       "      <td>...</td>\n",
       "      <td>...</td>\n",
       "      <td>...</td>\n",
       "    </tr>\n",
       "    <tr>\n",
       "      <th>318</th>\n",
       "      <td>78068</td>\n",
       "      <td>STA MAZO DE CARTAS BUDWEISER</td>\n",
       "      <td>C</td>\n",
       "      <td>1</td>\n",
       "    </tr>\n",
       "    <tr>\n",
       "      <th>320</th>\n",
       "      <td>78131</td>\n",
       "      <td>VINO MALBEC MISTERIO X6 0,750 L</td>\n",
       "      <td>C</td>\n",
       "      <td>1</td>\n",
       "    </tr>\n",
       "    <tr>\n",
       "      <th>321</th>\n",
       "      <td>78141</td>\n",
       "      <td>TOSTADAS DE ARROZ MOLINOS ALA X24 150GR</td>\n",
       "      <td>C</td>\n",
       "      <td>1</td>\n",
       "    </tr>\n",
       "    <tr>\n",
       "      <th>325</th>\n",
       "      <td>78233</td>\n",
       "      <td>YERBA MATE CACHAMATE X12 500GR</td>\n",
       "      <td>C</td>\n",
       "      <td>1</td>\n",
       "    </tr>\n",
       "    <tr>\n",
       "      <th>326</th>\n",
       "      <td>78244</td>\n",
       "      <td>STA HAMACA CORONA 2021</td>\n",
       "      <td>C</td>\n",
       "      <td>1</td>\n",
       "    </tr>\n",
       "  </tbody>\n",
       "</table>\n",
       "<p>225 rows × 4 columns</p>\n",
       "</div>"
      ],
      "text/plain": [
       "     articulo                              descripcion clasificacion  cantidad\n",
       "0        7038                    BRAHMA - X12 1000RET#             A         3\n",
       "1       25668                    PEPSI NF PET X6 500CC             A         3\n",
       "2        7634                     BRAHMA - 4X6 LAT 473             A         3\n",
       "3       25644                     7-UP NF PET X6 500CC             A         3\n",
       "4        7026                    QUILMES - X12 1000RET             A         3\n",
       "..        ...                                      ...           ...       ...\n",
       "318     78068             STA MAZO DE CARTAS BUDWEISER             C         1\n",
       "320     78131          VINO MALBEC MISTERIO X6 0,750 L             C         1\n",
       "321     78141  TOSTADAS DE ARROZ MOLINOS ALA X24 150GR             C         1\n",
       "325     78233           YERBA MATE CACHAMATE X12 500GR             C         1\n",
       "326     78244                   STA HAMACA CORONA 2021             C         1\n",
       "\n",
       "[225 rows x 4 columns]"
      ]
     },
     "execution_count": 9,
     "metadata": {},
     "output_type": "execute_result"
    }
   ],
   "source": [
    "df_abc"
   ]
  },
  {
   "attachments": {},
   "cell_type": "markdown",
   "metadata": {},
   "source": [
    "DB Operations\n"
   ]
  },
  {
   "cell_type": "code",
   "execution_count": 10,
   "metadata": {},
   "outputs": [],
   "source": [
    "import sqlite_db_generation as sqlgen\n",
    "import sqlite3\n",
    "import math"
   ]
  },
  {
   "cell_type": "code",
   "execution_count": 11,
   "metadata": {},
   "outputs": [],
   "source": [
    "sqlgen.create_db(\"abc_quantity.db\", \"abc\")"
   ]
  },
  {
   "cell_type": "code",
   "execution_count": 12,
   "metadata": {},
   "outputs": [],
   "source": [
    "sqlgen.insert_article_df_into_db(df_abc, \"abc_quantity.db\", \"abc\")"
   ]
  },
  {
   "cell_type": "code",
   "execution_count": 13,
   "metadata": {},
   "outputs": [],
   "source": [
    "sqlgen.reset_database_quantity_for_article(\"abc_quantity.db\", \"abc\")"
   ]
  },
  {
   "cell_type": "code",
   "execution_count": 14,
   "metadata": {},
   "outputs": [],
   "source": [
    "sqlgen.remove_quant_for_article(\"abc_quantity.db\", \"abc\",25668)"
   ]
  },
  {
   "cell_type": "code",
   "execution_count": 15,
   "metadata": {},
   "outputs": [
    {
     "name": "stdout",
     "output_type": "stream",
     "text": [
      "(25668, 'PEPSI NF PET X6 500CC', 'A', 2)\n"
     ]
    }
   ],
   "source": [
    "sqlgen.select_an_article(\"abc_quantity.db\", \"abc\", 25668)"
   ]
  },
  {
   "cell_type": "code",
   "execution_count": 16,
   "metadata": {},
   "outputs": [],
   "source": [
    "random_art = sqlgen.select_random_article(\"abc_quantity.db\", \"abc\", \"A\")"
   ]
  },
  {
   "cell_type": "code",
   "execution_count": 17,
   "metadata": {},
   "outputs": [
    {
     "data": {
      "text/plain": [
       "True"
      ]
     },
     "execution_count": 17,
     "metadata": {},
     "output_type": "execute_result"
    }
   ],
   "source": [
    "sqlgen.check_if_article_has_quantity(\"abc_quantity.db\", \"abc\", random_art[0])"
   ]
  },
  {
   "cell_type": "code",
   "execution_count": 46,
   "metadata": {},
   "outputs": [],
   "source": [
    "def get_max_per_category_per_day(db_name, table_name, dates_dictionary, category):\n",
    "    cnt = sqlite3.connect(db_name)\n",
    "    business_days = len(dates_dictionary.keys())\n",
    "    query = cnt.execute(\n",
    "        f\"\"\" SELECT COUNT(*)\n",
    "            FROM {table_name}\n",
    "            WHERE CLASIFICACION = '{category}'; \"\"\"\n",
    "    )\n",
    "\n",
    "    if(category == \"A\"):\n",
    "        quantity = query.fetchone()[0] * 3\n",
    "    elif(category == \"B\"):\n",
    "        quantity = query.fetchone()[0] * 2\n",
    "    else:\n",
    "        quantity = query.fetchone()[0] * 1\n",
    "\n",
    "    return math.ceil(quantity/business_days)\n",
    "    "
   ]
  },
  {
   "cell_type": "code",
   "execution_count": 19,
   "metadata": {},
   "outputs": [],
   "source": [
    "# def add_article_to_dataframe(cod,descrip,dictionary,dictionary_key):\n",
    "#     if cod in dictionary[dictionary_key].values:\n",
    "#         return\n",
    "#     else:\n",
    "#         df_aux = {'articulo': cod, 'descripcion': descrip, 'chess': \"\", 'wms': \"\", 'fisico': \"\" }\n",
    "#         dictionary[dictionary_key] = dictionary[dictionary_key].append(df_aux, ignore_index = True)\n",
    "#     return dictionary"
   ]
  },
  {
   "cell_type": "code",
   "execution_count": 58,
   "metadata": {},
   "outputs": [],
   "source": [
    "def add_article_to_dataframe(cod,descrip,date_df):\n",
    "    df_aux = {'articulo': cod, 'descripcion': descrip, 'chess': \"\", 'wms': \"\", 'fisico': \"\" }\n",
    "    date_df = pd.concat([date_df, pd.DataFrame([df_aux])], ignore_index=True)\n",
    "    return date_df"
   ]
  },
  {
   "cell_type": "code",
   "execution_count": 77,
   "metadata": {},
   "outputs": [],
   "source": [
    "def check_article_already_in_df(cod, date_df):\n",
    "    if cod in date_df.values:\n",
    "        print(date_df.values)\n",
    "        return True\n",
    "    else:\n",
    "        return False"
   ]
  },
  {
   "cell_type": "code",
   "execution_count": 71,
   "metadata": {},
   "outputs": [],
   "source": [
    "a_articles_per_day = get_max_per_category_per_day(\"abc_quantity.db\", \"abc\",dates_dictionary,\"A\")\n",
    "b_articles_per_day = get_max_per_category_per_day(\"abc_quantity.db\", \"abc\",dates_dictionary,\"B\")\n",
    "c_articles_per_day = get_max_per_category_per_day(\"abc_quantity.db\", \"abc\",dates_dictionary,\"C\")"
   ]
  },
  {
   "cell_type": "code",
   "execution_count": 106,
   "metadata": {},
   "outputs": [],
   "source": [
    "def fill_date_A(date_df, maxA):\n",
    "    contador_a = 0\n",
    "    while(contador_a < maxA):\n",
    "        if(sqlgen.check_if_category_has_quantity(\"abc_quantity.db\", \"abc\", \"A\")):\n",
    "            rnd_art = sqlgen.select_random_article(\"abc_quantity.db\", \"abc\", \"A\")\n",
    "            if(check_article_already_in_df(rnd_art[0],date_df)):\n",
    "                print(rnd_art[0], \"already in df\")\n",
    "                continue\n",
    "            else:\n",
    "                if(sqlgen.check_if_article_has_quantity(\"abc_quantity.db\", \"abc\", rnd_art[0])):\n",
    "                    date_df = add_article_to_dataframe(rnd_art[0],rnd_art[1],date_df)\n",
    "                    sqlgen.remove_quant_for_article(\"abc_quantity.db\", \"abc\",rnd_art[0])\n",
    "                    contador_a+=1\n",
    "                else:\n",
    "                    continue\n",
    "        else:\n",
    "            break\n",
    "    return date_df"
   ]
  },
  {
   "cell_type": "code",
   "execution_count": null,
   "metadata": {},
   "outputs": [],
   "source": []
  },
  {
   "cell_type": "code",
   "execution_count": 84,
   "metadata": {},
   "outputs": [
    {
     "name": "stdout",
     "output_type": "stream",
     "text": [
      "2023-05-01 00:00:00\n",
      "2023-05-02 00:00:00\n",
      "2023-05-03 00:00:00\n",
      "2023-05-06 00:00:00\n",
      "2023-05-08 00:00:00\n",
      "2023-05-09 00:00:00\n",
      "2023-05-10 00:00:00\n",
      "2023-05-11 00:00:00\n",
      "2023-05-12 00:00:00\n",
      "2023-05-13 00:00:00\n",
      "2023-05-15 00:00:00\n",
      "2023-05-16 00:00:00\n",
      "2023-05-17 00:00:00\n",
      "2023-05-18 00:00:00\n",
      "2023-05-19 00:00:00\n",
      "2023-05-20 00:00:00\n",
      "2023-05-22 00:00:00\n",
      "2023-05-23 00:00:00\n",
      "2023-05-24 00:00:00\n",
      "2023-05-25 00:00:00\n",
      "2023-05-26 00:00:00\n",
      "2023-05-27 00:00:00\n",
      "2023-05-29 00:00:00\n",
      "2023-05-30 00:00:00\n",
      "2023-05-31 00:00:00\n"
     ]
    }
   ],
   "source": [
    "#reset dates dictionary\n",
    "dates_dictionary = date_generation_process(5, 2023, holidays)"
   ]
  },
  {
   "cell_type": "code",
   "execution_count": 85,
   "metadata": {},
   "outputs": [],
   "source": [
    "sqlgen.reset_database_quantity_for_article(\"abc_quantity.db\", \"abc\")"
   ]
  },
  {
   "cell_type": "code",
   "execution_count": 86,
   "metadata": {},
   "outputs": [
    {
     "data": {
      "text/plain": [
       "True"
      ]
     },
     "execution_count": 86,
     "metadata": {},
     "output_type": "execute_result"
    }
   ],
   "source": [
    "sqlgen.check_if_category_has_quantity(\"abc_quantity.db\", \"abc\", \"A\")"
   ]
  },
  {
   "cell_type": "code",
   "execution_count": 108,
   "metadata": {},
   "outputs": [],
   "source": [
    "for i in dates_dictionary:\n",
    "    dates_dictionary[i] = fill_date_A(dates_dictionary[i],a_articles_per_day)"
   ]
  },
  {
   "cell_type": "code",
   "execution_count": 104,
   "metadata": {},
   "outputs": [
    {
     "name": "stdout",
     "output_type": "stream",
     "text": [
      "01-05-2023\n",
      "02-05-2023\n",
      "03-05-2023\n",
      "06-05-2023\n",
      "08-05-2023\n",
      "09-05-2023\n",
      "10-05-2023\n",
      "11-05-2023\n",
      "12-05-2023\n",
      "13-05-2023\n",
      "15-05-2023\n",
      "16-05-2023\n",
      "17-05-2023\n",
      "18-05-2023\n",
      "19-05-2023\n",
      "20-05-2023\n",
      "22-05-2023\n",
      "23-05-2023\n",
      "24-05-2023\n",
      "25-05-2023\n",
      "26-05-2023\n",
      "27-05-2023\n",
      "29-05-2023\n",
      "30-05-2023\n",
      "31-05-2023\n"
     ]
    }
   ],
   "source": [
    "for i in dates_dictionary:\n",
    "    print(i)"
   ]
  },
  {
   "cell_type": "code",
   "execution_count": 89,
   "metadata": {},
   "outputs": [
    {
     "data": {
      "text/plain": [
       "dict_values([  articulo                   descripcion chess wms fisico\n",
       "0    25194  MIRINDA NARANJA PET X6 500CC                 \n",
       "1    25668         PEPSI NF PET X6 500CC                 \n",
       "2     2218         QUILMES - 4X6 LAT 473                 \n",
       "3    19337           7-UP PET X6 1500 NF                 ,   articulo                              descripcion chess wms fisico\n",
       "0    25194             MIRINDA NARANJA PET X6 500CC                 \n",
       "1    14933  ECO DE LOS ANDES SG PET X12 500 MIX 203                 \n",
       "2    10580               PATAGO AMBER - X12 355 OW#                 \n",
       "3     7038                    BRAHMA - X12 1000RET#                 ,   articulo                     descripcion chess wms fisico\n",
       "0    11522  GATORADE FRU TRO * X6 PET 500#                 \n",
       "1     1416   GATORADE MANZANA * X6 PET 500                 \n",
       "2    19086            PEPSI PET X6 1500 NF                 \n",
       "3     7478   MIRINDA NARANJA * X6 PET1500#                 ,   articulo                    descripcion chess wms fisico\n",
       "0    25644           7-UP NF PET X6 500CC                 \n",
       "1    19341           7-UP RECO X8 2000 NF                 \n",
       "2    10580     PATAGO AMBER - X12 355 OW#                 \n",
       "3     7478  MIRINDA NARANJA * X6 PET1500#                 ,   articulo                    descripcion chess wms fisico\n",
       "0    25352    BRAHMA DORADA CAN 4X6 473CC                 \n",
       "1    25033   AW POMELO SIN AZ AG X6 500CC                 \n",
       "2    24012      BRAHMA DORADA OW X6 710CC                 \n",
       "3    25030  AW NAR-DUR SIN AZ AG X6 500CC                 ,   articulo                              descripcion chess wms fisico\n",
       "0    25644                     7-UP NF PET X6 500CC                 \n",
       "1     7476            PASO DLT TONICA * X6 PET1500#                 \n",
       "2    25033             AW POMELO SIN AZ AG X6 500CC                 \n",
       "3    14933  ECO DE LOS ANDES SG PET X12 500 MIX 203                 ,   articulo                    descripcion chess wms fisico\n",
       "0     7478  MIRINDA NARANJA * X6 PET1500#                 \n",
       "1     7038          BRAHMA - X12 1000RET#                 \n",
       "2    25647       PEPSI BLACK PET X6 500CC                 \n",
       "3    10580     PATAGO AMBER - X12 355 OW#                 ,   articulo                               descripcion chess wms fisico\n",
       "0    19337                       7-UP PET X6 1500 NF                 \n",
       "1    22278  ECO DE LOS ANDES SG PET X12 500 - 203 PC                 \n",
       "2    11522            GATORADE FRU TRO * X6 PET 500#                 \n",
       "3    19086                      PEPSI PET X6 1500 NF                 ,   articulo                    descripcion chess wms fisico\n",
       "0    19337            7-UP PET X6 1500 NF                 \n",
       "1    25668          PEPSI NF PET X6 500CC                 \n",
       "2    25030  AW NAR-DUR SIN AZ AG X6 500CC                 \n",
       "3    19088      PEPSI RECO PET X8 2000 NF                 ,   articulo                    descripcion chess wms fisico\n",
       "0     1418  GATORADE COOLBLU * X6 PET 500                 \n",
       "1    25030  AW NAR-DUR SIN AZ AG X6 500CC                 \n",
       "2    25645           PDT POM PET X6 500CC                 \n",
       "3    25647       PEPSI BLACK PET X6 500CC                 ,   articulo                              descripcion chess wms fisico\n",
       "0    19088                PEPSI RECO PET X8 2000 NF                 \n",
       "1    14933  ECO DE LOS ANDES SG PET X12 500 MIX 203                 \n",
       "2    25647                 PEPSI BLACK PET X6 500CC                 \n",
       "3    25668                    PEPSI NF PET X6 500CC                 ,   articulo                descripcion chess wms fisico\n",
       "0     7038      BRAHMA - X12 1000RET#                 \n",
       "1     7634       BRAHMA - 4X6 LAT 473                 \n",
       "2    14191    PEPSI BLACK PET X6 1500                 \n",
       "3     8228  PEPSI COLA * 4X6 LAT 354#                 ,   articulo                               descripcion chess wms fisico\n",
       "0    22278  ECO DE LOS ANDES SG PET X12 500 - 203 PC                 \n",
       "1    19341                      7-UP RECO X8 2000 NF                 \n",
       "2    24012                 BRAHMA DORADA OW X6 710CC                 \n",
       "3    24880            STELLA ARTOIS PM RET X12 975CC                 ,   articulo                    descripcion chess wms fisico\n",
       "0    19088      PEPSI RECO PET X8 2000 NF                 \n",
       "1     1418  GATORADE COOLBLU * X6 PET 500                 \n",
       "2    25033   AW POMELO SIN AZ AG X6 500CC                 \n",
       "3     7026          QUILMES - X12 1000RET                 ,   articulo                     descripcion chess wms fisico\n",
       "0    11522  GATORADE FRU TRO * X6 PET 500#                 \n",
       "1     1416   GATORADE MANZANA * X6 PET 500                 \n",
       "2    25352     BRAHMA DORADA CAN 4X6 473CC                 \n",
       "3    14191         PEPSI BLACK PET X6 1500                 ,   articulo                descripcion chess wms fisico\n",
       "0    25645       PDT POM PET X6 500CC                 \n",
       "1    25644       7-UP NF PET X6 500CC                 \n",
       "2    19086       PEPSI PET X6 1500 NF                 \n",
       "3     8228  PEPSI COLA * 4X6 LAT 354#                 ,   articulo                    descripcion chess wms fisico\n",
       "0     1416  GATORADE MANZANA * X6 PET 500                 \n",
       "1    25645           PDT POM PET X6 500CC                 \n",
       "2     7026          QUILMES - X12 1000RET                 \n",
       "3    24012      BRAHMA DORADA OW X6 710CC                 ,   articulo                               descripcion chess wms fisico\n",
       "0    25194              MIRINDA NARANJA PET X6 500CC                 \n",
       "1    24880            STELLA ARTOIS PM RET X12 975CC                 \n",
       "2    22278  ECO DE LOS ANDES SG PET X12 500 - 203 PC                 \n",
       "3    19341                      7-UP RECO X8 2000 NF                 ,   articulo                    descripcion chess wms fisico\n",
       "0    25352    BRAHMA DORADA CAN 4X6 473CC                 \n",
       "1     1418  GATORADE COOLBLU * X6 PET 500                 \n",
       "2     7476  PASO DLT TONICA * X6 PET1500#                 \n",
       "3     8228      PEPSI COLA * 4X6 LAT 354#                 ,   articulo                    descripcion chess wms fisico\n",
       "0     7634           BRAHMA - 4X6 LAT 473                 \n",
       "1     7026          QUILMES - X12 1000RET                 \n",
       "2     2218          QUILMES - 4X6 LAT 473                 \n",
       "3     7476  PASO DLT TONICA * X6 PET1500#                 ,   articulo                     descripcion chess wms fisico\n",
       "0     7634            BRAHMA - 4X6 LAT 473                 \n",
       "1     2218           QUILMES - 4X6 LAT 473                 \n",
       "2    24880  STELLA ARTOIS PM RET X12 975CC                 \n",
       "3    14191         PEPSI BLACK PET X6 1500                 , Empty DataFrame\n",
       "Columns: [articulo, descripcion, chess, wms, fisico]\n",
       "Index: [], Empty DataFrame\n",
       "Columns: [articulo, descripcion, chess, wms, fisico]\n",
       "Index: [], Empty DataFrame\n",
       "Columns: [articulo, descripcion, chess, wms, fisico]\n",
       "Index: [], Empty DataFrame\n",
       "Columns: [articulo, descripcion, chess, wms, fisico]\n",
       "Index: []])"
      ]
     },
     "execution_count": 89,
     "metadata": {},
     "output_type": "execute_result"
    }
   ],
   "source": [
    "dates_dictionary.values()"
   ]
  },
  {
   "cell_type": "code",
   "execution_count": 101,
   "metadata": {},
   "outputs": [
    {
     "data": {
      "text/html": [
       "<div>\n",
       "<style scoped>\n",
       "    .dataframe tbody tr th:only-of-type {\n",
       "        vertical-align: middle;\n",
       "    }\n",
       "\n",
       "    .dataframe tbody tr th {\n",
       "        vertical-align: top;\n",
       "    }\n",
       "\n",
       "    .dataframe thead th {\n",
       "        text-align: right;\n",
       "    }\n",
       "</style>\n",
       "<table border=\"1\" class=\"dataframe\">\n",
       "  <thead>\n",
       "    <tr style=\"text-align: right;\">\n",
       "      <th></th>\n",
       "      <th>articulo</th>\n",
       "      <th>descripcion</th>\n",
       "      <th>chess</th>\n",
       "      <th>wms</th>\n",
       "      <th>fisico</th>\n",
       "    </tr>\n",
       "  </thead>\n",
       "  <tbody>\n",
       "    <tr>\n",
       "      <th>0</th>\n",
       "      <td>7634</td>\n",
       "      <td>BRAHMA - 4X6 LAT 473</td>\n",
       "      <td></td>\n",
       "      <td></td>\n",
       "      <td></td>\n",
       "    </tr>\n",
       "    <tr>\n",
       "      <th>1</th>\n",
       "      <td>2218</td>\n",
       "      <td>QUILMES - 4X6 LAT 473</td>\n",
       "      <td></td>\n",
       "      <td></td>\n",
       "      <td></td>\n",
       "    </tr>\n",
       "    <tr>\n",
       "      <th>2</th>\n",
       "      <td>24880</td>\n",
       "      <td>STELLA ARTOIS PM RET X12 975CC</td>\n",
       "      <td></td>\n",
       "      <td></td>\n",
       "      <td></td>\n",
       "    </tr>\n",
       "    <tr>\n",
       "      <th>3</th>\n",
       "      <td>14191</td>\n",
       "      <td>PEPSI BLACK PET X6 1500</td>\n",
       "      <td></td>\n",
       "      <td></td>\n",
       "      <td></td>\n",
       "    </tr>\n",
       "  </tbody>\n",
       "</table>\n",
       "</div>"
      ],
      "text/plain": [
       "  articulo                     descripcion chess wms fisico\n",
       "0     7634            BRAHMA - 4X6 LAT 473                 \n",
       "1     2218           QUILMES - 4X6 LAT 473                 \n",
       "2    24880  STELLA ARTOIS PM RET X12 975CC                 \n",
       "3    14191         PEPSI BLACK PET X6 1500                 "
      ]
     },
     "execution_count": 101,
     "metadata": {},
     "output_type": "execute_result"
    }
   ],
   "source": [
    "dates_dictionary['26-05-2023']"
   ]
  },
  {
   "cell_type": "code",
   "execution_count": null,
   "metadata": {},
   "outputs": [],
   "source": []
  },
  {
   "cell_type": "code",
   "execution_count": null,
   "metadata": {},
   "outputs": [],
   "source": []
  }
 ],
 "metadata": {
  "kernelspec": {
   "display_name": "data_env",
   "language": "python",
   "name": "python3"
  },
  "language_info": {
   "codemirror_mode": {
    "name": "ipython",
    "version": 3
   },
   "file_extension": ".py",
   "mimetype": "text/x-python",
   "name": "python",
   "nbconvert_exporter": "python",
   "pygments_lexer": "ipython3",
   "version": "3.9.7"
  },
  "orig_nbformat": 4
 },
 "nbformat": 4,
 "nbformat_minor": 2
}
