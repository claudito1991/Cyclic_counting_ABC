{
 "cells": [
  {
   "cell_type": "code",
   "execution_count": 1,
   "metadata": {},
   "outputs": [],
   "source": [
    "import dates_generation as dg\n",
    "import os.path\n",
    "import pandas as pd"
   ]
  },
  {
   "attachments": {},
   "cell_type": "markdown",
   "metadata": {},
   "source": [
    "Dates generation\n"
   ]
  },
  {
   "cell_type": "code",
   "execution_count": 2,
   "metadata": {},
   "outputs": [],
   "source": [
    "def date_generation_process(month, year, holidays_list):\n",
    "    holidays_list = dg.convert_string_to_date(holidays)\n",
    "    days_list = dg.weekdays_list(month, year)\n",
    "    business_days_list = dg.generate_date_from_list(month, year, days_list)\n",
    "    real_business = dg.extract_holidays_from_weekdays(business_days_list, holidays_list)\n",
    "    list_of_dates = dg.create_list_of_dates(real_business)\n",
    "    dictionary = dg.create_dataframe_dictionary(list_of_dates)\n",
    "    return dictionary"
   ]
  },
  {
   "cell_type": "code",
   "execution_count": 3,
   "metadata": {},
   "outputs": [],
   "source": [
    "holidays = [\"05-05-23\", \"04-05-23\"]"
   ]
  },
  {
   "cell_type": "code",
   "execution_count": 4,
   "metadata": {},
   "outputs": [],
   "source": [
    "dates_dictionary = date_generation_process(5, 2023, holidays)"
   ]
  },
  {
   "cell_type": "code",
   "execution_count": 5,
   "metadata": {},
   "outputs": [
    {
     "data": {
      "text/html": [
       "<div>\n",
       "<style scoped>\n",
       "    .dataframe tbody tr th:only-of-type {\n",
       "        vertical-align: middle;\n",
       "    }\n",
       "\n",
       "    .dataframe tbody tr th {\n",
       "        vertical-align: top;\n",
       "    }\n",
       "\n",
       "    .dataframe thead th {\n",
       "        text-align: right;\n",
       "    }\n",
       "</style>\n",
       "<table border=\"1\" class=\"dataframe\">\n",
       "  <thead>\n",
       "    <tr style=\"text-align: right;\">\n",
       "      <th></th>\n",
       "      <th>articulo</th>\n",
       "      <th>descripcion</th>\n",
       "      <th>chess</th>\n",
       "      <th>wms</th>\n",
       "      <th>fisico</th>\n",
       "    </tr>\n",
       "  </thead>\n",
       "  <tbody>\n",
       "  </tbody>\n",
       "</table>\n",
       "</div>"
      ],
      "text/plain": [
       "Empty DataFrame\n",
       "Columns: [articulo, descripcion, chess, wms, fisico]\n",
       "Index: []"
      ]
     },
     "execution_count": 5,
     "metadata": {},
     "output_type": "execute_result"
    }
   ],
   "source": [
    "dates_dictionary[\"01-05-2023\"]"
   ]
  },
  {
   "attachments": {},
   "cell_type": "markdown",
   "metadata": {},
   "source": [
    "Dataframe base ABC clasification\n"
   ]
  },
  {
   "cell_type": "code",
   "execution_count": 6,
   "metadata": {},
   "outputs": [],
   "source": [
    "import dataframe_class_base as dcb"
   ]
  },
  {
   "cell_type": "code",
   "execution_count": 7,
   "metadata": {},
   "outputs": [],
   "source": [
    "# read ABC base file\n",
    "fullpath = os.path.abspath(\".//abc_mayo_23.xlsx\")\n",
    "\n",
    "df_clasificacion = pd.read_excel(fullpath, sheet_name=\"Hoja1\")"
   ]
  },
  {
   "cell_type": "code",
   "execution_count": 8,
   "metadata": {},
   "outputs": [],
   "source": [
    "df_abc = dcb.cantidad_segun_abc(df_clasificacion)"
   ]
  },
  {
   "cell_type": "code",
   "execution_count": 9,
   "metadata": {},
   "outputs": [
    {
     "data": {
      "text/html": [
       "<div>\n",
       "<style scoped>\n",
       "    .dataframe tbody tr th:only-of-type {\n",
       "        vertical-align: middle;\n",
       "    }\n",
       "\n",
       "    .dataframe tbody tr th {\n",
       "        vertical-align: top;\n",
       "    }\n",
       "\n",
       "    .dataframe thead th {\n",
       "        text-align: right;\n",
       "    }\n",
       "</style>\n",
       "<table border=\"1\" class=\"dataframe\">\n",
       "  <thead>\n",
       "    <tr style=\"text-align: right;\">\n",
       "      <th></th>\n",
       "      <th>articulo</th>\n",
       "      <th>descripcion</th>\n",
       "      <th>clasificacion</th>\n",
       "      <th>cantidad</th>\n",
       "    </tr>\n",
       "  </thead>\n",
       "  <tbody>\n",
       "    <tr>\n",
       "      <th>0</th>\n",
       "      <td>7038</td>\n",
       "      <td>BRAHMA - X12 1000RET#</td>\n",
       "      <td>A</td>\n",
       "      <td>3</td>\n",
       "    </tr>\n",
       "    <tr>\n",
       "      <th>1</th>\n",
       "      <td>25668</td>\n",
       "      <td>PEPSI NF PET X6 500CC</td>\n",
       "      <td>A</td>\n",
       "      <td>3</td>\n",
       "    </tr>\n",
       "    <tr>\n",
       "      <th>2</th>\n",
       "      <td>7634</td>\n",
       "      <td>BRAHMA - 4X6 LAT 473</td>\n",
       "      <td>A</td>\n",
       "      <td>3</td>\n",
       "    </tr>\n",
       "    <tr>\n",
       "      <th>3</th>\n",
       "      <td>25644</td>\n",
       "      <td>7-UP NF PET X6 500CC</td>\n",
       "      <td>A</td>\n",
       "      <td>3</td>\n",
       "    </tr>\n",
       "    <tr>\n",
       "      <th>4</th>\n",
       "      <td>7026</td>\n",
       "      <td>QUILMES - X12 1000RET</td>\n",
       "      <td>A</td>\n",
       "      <td>3</td>\n",
       "    </tr>\n",
       "    <tr>\n",
       "      <th>...</th>\n",
       "      <td>...</td>\n",
       "      <td>...</td>\n",
       "      <td>...</td>\n",
       "      <td>...</td>\n",
       "    </tr>\n",
       "    <tr>\n",
       "      <th>318</th>\n",
       "      <td>78068</td>\n",
       "      <td>STA MAZO DE CARTAS BUDWEISER</td>\n",
       "      <td>C</td>\n",
       "      <td>1</td>\n",
       "    </tr>\n",
       "    <tr>\n",
       "      <th>320</th>\n",
       "      <td>78131</td>\n",
       "      <td>VINO MALBEC MISTERIO X6 0,750 L</td>\n",
       "      <td>C</td>\n",
       "      <td>1</td>\n",
       "    </tr>\n",
       "    <tr>\n",
       "      <th>321</th>\n",
       "      <td>78141</td>\n",
       "      <td>TOSTADAS DE ARROZ MOLINOS ALA X24 150GR</td>\n",
       "      <td>C</td>\n",
       "      <td>1</td>\n",
       "    </tr>\n",
       "    <tr>\n",
       "      <th>325</th>\n",
       "      <td>78233</td>\n",
       "      <td>YERBA MATE CACHAMATE X12 500GR</td>\n",
       "      <td>C</td>\n",
       "      <td>1</td>\n",
       "    </tr>\n",
       "    <tr>\n",
       "      <th>326</th>\n",
       "      <td>78244</td>\n",
       "      <td>STA HAMACA CORONA 2021</td>\n",
       "      <td>C</td>\n",
       "      <td>1</td>\n",
       "    </tr>\n",
       "  </tbody>\n",
       "</table>\n",
       "<p>225 rows × 4 columns</p>\n",
       "</div>"
      ],
      "text/plain": [
       "     articulo                              descripcion clasificacion  cantidad\n",
       "0        7038                    BRAHMA - X12 1000RET#             A         3\n",
       "1       25668                    PEPSI NF PET X6 500CC             A         3\n",
       "2        7634                     BRAHMA - 4X6 LAT 473             A         3\n",
       "3       25644                     7-UP NF PET X6 500CC             A         3\n",
       "4        7026                    QUILMES - X12 1000RET             A         3\n",
       "..        ...                                      ...           ...       ...\n",
       "318     78068             STA MAZO DE CARTAS BUDWEISER             C         1\n",
       "320     78131          VINO MALBEC MISTERIO X6 0,750 L             C         1\n",
       "321     78141  TOSTADAS DE ARROZ MOLINOS ALA X24 150GR             C         1\n",
       "325     78233           YERBA MATE CACHAMATE X12 500GR             C         1\n",
       "326     78244                   STA HAMACA CORONA 2021             C         1\n",
       "\n",
       "[225 rows x 4 columns]"
      ]
     },
     "execution_count": 9,
     "metadata": {},
     "output_type": "execute_result"
    }
   ],
   "source": [
    "df_abc"
   ]
  },
  {
   "attachments": {},
   "cell_type": "markdown",
   "metadata": {},
   "source": [
    "DB Operations\n"
   ]
  },
  {
   "cell_type": "code",
   "execution_count": 10,
   "metadata": {},
   "outputs": [],
   "source": [
    "import sqlite_db_generation as sqlgen\n",
    "import sqlite3\n",
    "import math\n",
    "import random"
   ]
  },
  {
   "cell_type": "code",
   "execution_count": 11,
   "metadata": {},
   "outputs": [],
   "source": [
    "sqlgen.create_db(\"abc_quantity.db\", \"abc\")"
   ]
  },
  {
   "cell_type": "code",
   "execution_count": 12,
   "metadata": {},
   "outputs": [],
   "source": [
    "sqlgen.insert_article_df_into_db(df_abc, \"abc_quantity.db\", \"abc\")"
   ]
  },
  {
   "cell_type": "code",
   "execution_count": 13,
   "metadata": {},
   "outputs": [],
   "source": [
    "sqlgen.reset_database_quantity_for_article(\"abc_quantity.db\", \"abc\")"
   ]
  },
  {
   "cell_type": "code",
   "execution_count": 14,
   "metadata": {},
   "outputs": [],
   "source": [
    "sqlgen.remove_quant_for_article(\"abc_quantity.db\", \"abc\",25668)"
   ]
  },
  {
   "cell_type": "code",
   "execution_count": 15,
   "metadata": {},
   "outputs": [
    {
     "name": "stdout",
     "output_type": "stream",
     "text": [
      "(25668, 'PEPSI NF PET X6 500CC', 'A', 2)\n"
     ]
    }
   ],
   "source": [
    "sqlgen.select_an_article(\"abc_quantity.db\", \"abc\", 25668)"
   ]
  },
  {
   "cell_type": "code",
   "execution_count": 16,
   "metadata": {},
   "outputs": [],
   "source": [
    "random_art = sqlgen.select_random_article(\"abc_quantity.db\", \"abc\", \"A\")"
   ]
  },
  {
   "cell_type": "code",
   "execution_count": 17,
   "metadata": {},
   "outputs": [
    {
     "data": {
      "text/plain": [
       "True"
      ]
     },
     "execution_count": 17,
     "metadata": {},
     "output_type": "execute_result"
    }
   ],
   "source": [
    "sqlgen.check_if_article_has_quantity(\"abc_quantity.db\", \"abc\", random_art[0])"
   ]
  },
  {
   "cell_type": "code",
   "execution_count": 18,
   "metadata": {},
   "outputs": [],
   "source": [
    "def get_max_per_category_per_day(db_name, table_name, dates_dictionary, category):\n",
    "    cnt = sqlite3.connect(db_name)\n",
    "    business_days = len(dates_dictionary.keys())\n",
    "    query = cnt.execute(\n",
    "        f\"\"\" SELECT COUNT(*)\n",
    "            FROM {table_name}\n",
    "            WHERE CLASIFICACION = '{category}'; \"\"\"\n",
    "    )\n",
    "\n",
    "    if(category == \"A\"):\n",
    "        quantity = query.fetchone()[0] * 3\n",
    "    elif(category == \"B\"):\n",
    "        quantity = query.fetchone()[0] * 2\n",
    "    else:\n",
    "        quantity = query.fetchone()[0] * 1\n",
    "\n",
    "    return math.floor(quantity/business_days)\n",
    "    "
   ]
  },
  {
   "cell_type": "code",
   "execution_count": 19,
   "metadata": {},
   "outputs": [],
   "source": [
    "# def add_article_to_dataframe(cod,descrip,dictionary,dictionary_key):\n",
    "#     if cod in dictionary[dictionary_key].values:\n",
    "#         return\n",
    "#     else:\n",
    "#         df_aux = {'articulo': cod, 'descripcion': descrip, 'chess': \"\", 'wms': \"\", 'fisico': \"\" }\n",
    "#         dictionary[dictionary_key] = dictionary[dictionary_key].append(df_aux, ignore_index = True)\n",
    "#     return dictionary"
   ]
  },
  {
   "cell_type": "code",
   "execution_count": 20,
   "metadata": {},
   "outputs": [],
   "source": [
    "def add_article_to_dataframe(cod,descrip,date_df):\n",
    "    df_aux = {'articulo': cod, 'descripcion': descrip, 'chess': \"\", 'wms': \"\", 'fisico': \"\" }\n",
    "    date_df = pd.concat([date_df, pd.DataFrame([df_aux])], ignore_index=True)\n",
    "    return date_df"
   ]
  },
  {
   "cell_type": "code",
   "execution_count": 21,
   "metadata": {},
   "outputs": [],
   "source": [
    "def check_article_already_in_df(cod, date_df):\n",
    "    if cod in date_df.values:\n",
    "        return True\n",
    "    else:\n",
    "        return False"
   ]
  },
  {
   "cell_type": "code",
   "execution_count": 22,
   "metadata": {},
   "outputs": [],
   "source": [
    "a_articles_per_day = get_max_per_category_per_day(\"abc_quantity.db\", \"abc\",dates_dictionary,\"A\")\n",
    "b_articles_per_day = get_max_per_category_per_day(\"abc_quantity.db\", \"abc\",dates_dictionary,\"B\")\n",
    "c_articles_per_day = get_max_per_category_per_day(\"abc_quantity.db\", \"abc\",dates_dictionary,\"C\")\n"
   ]
  },
  {
   "cell_type": "code",
   "execution_count": 23,
   "metadata": {},
   "outputs": [
    {
     "data": {
      "text/plain": [
       "5"
      ]
     },
     "execution_count": 23,
     "metadata": {},
     "output_type": "execute_result"
    }
   ],
   "source": [
    "c_articles_per_day"
   ]
  },
  {
   "cell_type": "code",
   "execution_count": 24,
   "metadata": {},
   "outputs": [],
   "source": [
    "def fill_date(date_df, maxA,maxB,maxC,selected_category,max_loop_iter):\n",
    "    cont_iter = 0\n",
    "    if(selected_category == \"A\"):\n",
    "        contador = 0\n",
    "        while(contador <= maxA):\n",
    "            if(sqlgen.check_if_category_has_quantity(\"abc_quantity.db\", \"abc\", selected_category)):\n",
    "                rnd_art = sqlgen.select_random_article(\"abc_quantity.db\", \"abc\", selected_category)\n",
    "                #print(\"random: \", rnd_art[0], rnd_art[1], rnd_art[2])\n",
    "                if(check_article_already_in_df(rnd_art[0],date_df)):\n",
    "                    #print(rnd_art[0], \"already in df\")\n",
    "                    cont_iter+=1\n",
    "                    if(cont_iter>max_loop_iter):\n",
    "                        break\n",
    "                    else:\n",
    "                        continue\n",
    "                else:\n",
    "                    if(sqlgen.check_if_article_has_quantity(\"abc_quantity.db\", \"abc\", rnd_art[0])):\n",
    "                        date_df = add_article_to_dataframe(rnd_art[0],rnd_art[1],date_df)\n",
    "                        sqlgen.remove_quant_for_article(\"abc_quantity.db\", \"abc\",rnd_art[0])\n",
    "                        cont_iter=0\n",
    "                        contador+=1\n",
    "                    else:\n",
    "                        continue\n",
    "            else:\n",
    "                break\n",
    "        return date_df\n",
    "    elif(selected_category == \"B\"):\n",
    "        contador = 0\n",
    "        while(contador <=  maxB):\n",
    "            if(sqlgen.check_if_category_has_quantity(\"abc_quantity.db\", \"abc\", selected_category)):\n",
    "                rnd_art = sqlgen.select_random_article(\"abc_quantity.db\", \"abc\", selected_category)\n",
    "                #print(\"random: \", rnd_art[0], rnd_art[1], rnd_art[2])\n",
    "                if(check_article_already_in_df(rnd_art[0],date_df)):\n",
    "                    #print(rnd_art[0], \"already in df\")\n",
    "                    cont_iter+=1\n",
    "                    if(cont_iter>max_loop_iter):\n",
    "                        break\n",
    "                    else:\n",
    "                        continue\n",
    "                else:\n",
    "                    if(sqlgen.check_if_article_has_quantity(\"abc_quantity.db\", \"abc\", rnd_art[0])):\n",
    "                        date_df = add_article_to_dataframe(rnd_art[0],rnd_art[1],date_df)\n",
    "                        sqlgen.remove_quant_for_article(\"abc_quantity.db\", \"abc\",rnd_art[0])\n",
    "                        contador+=1\n",
    "                        cont_iter=0\n",
    "                    else:\n",
    "                        continue\n",
    "            else:\n",
    "                break\n",
    "        return date_df\n",
    "    else:\n",
    "        contador = 0\n",
    "        while(contador <=  maxC):\n",
    "            if(sqlgen.check_if_category_has_quantity(\"abc_quantity.db\", \"abc\", selected_category)):\n",
    "                rnd_art = sqlgen.select_random_article(\"abc_quantity.db\", \"abc\", selected_category)\n",
    "                #print(\"random: \", rnd_art[0], rnd_art[1], rnd_art[2])\n",
    "                if(check_article_already_in_df(rnd_art[0],date_df)):\n",
    "                    #print(rnd_art[0], \"already in df\")\n",
    "                    cont_iter+=1\n",
    "                    if(cont_iter>max_loop_iter):\n",
    "                        break\n",
    "                    else:\n",
    "                        continue\n",
    "                else:\n",
    "                    if(sqlgen.check_if_article_has_quantity(\"abc_quantity.db\", \"abc\", rnd_art[0])):\n",
    "                        date_df = add_article_to_dataframe(rnd_art[0],rnd_art[1],date_df)\n",
    "                        sqlgen.remove_quant_for_article(\"abc_quantity.db\", \"abc\",rnd_art[0])\n",
    "                        contador+=1\n",
    "                        cont_iter=0\n",
    "                    else:\n",
    "                        continue\n",
    "            else:\n",
    "                break\n",
    "        return date_df        "
   ]
  },
  {
   "cell_type": "code",
   "execution_count": 25,
   "metadata": {},
   "outputs": [],
   "source": [
    "#reset dates dictionary\n",
    "dates_dictionary = date_generation_process(5, 2023, holidays)"
   ]
  },
  {
   "cell_type": "code",
   "execution_count": 26,
   "metadata": {},
   "outputs": [],
   "source": [
    "def check_articles_to_count(df_date,a_articles_per_day,b_articles_per_day,c_articles_per_day):\n",
    "    articles_per_day = a_articles_per_day+b_articles_per_day+c_articles_per_day\n",
    "    if(len(df_date)>=articles_per_day):\n",
    "        return True\n",
    "    else:\n",
    "        return False\n"
   ]
  },
  {
   "cell_type": "code",
   "execution_count": 27,
   "metadata": {},
   "outputs": [],
   "source": [
    "sqlgen.reset_database_quantity_for_article(\"abc_quantity.db\", \"abc\")"
   ]
  },
  {
   "cell_type": "code",
   "execution_count": 28,
   "metadata": {},
   "outputs": [],
   "source": [
    "def random_date_df(dates_dictionary):\n",
    "    rnd_date = random.choice(list(dates_dictionary.keys()))\n",
    "    return rnd_date"
   ]
  },
  {
   "cell_type": "code",
   "execution_count": 29,
   "metadata": {},
   "outputs": [],
   "source": [
    "def Assignation_process():\n",
    "    while(sqlgen.check_if_item_without_count(\"abc_quantity.db\", \"abc\")):\n",
    "        rnd_date=random_date_df(dates_dictionary)\n",
    "        if(check_articles_to_count(dates_dictionary[rnd_date], a_articles_per_day, b_articles_per_day,c_articles_per_day)):\n",
    "            continue\n",
    "        else:\n",
    "            dates_dictionary[rnd_date] = fill_date(dates_dictionary[rnd_date],a_articles_per_day, b_articles_per_day,c_articles_per_day,\"A\",10)\n",
    "            dates_dictionary[rnd_date] = fill_date(dates_dictionary[rnd_date],a_articles_per_day, b_articles_per_day,c_articles_per_day,\"B\",10)\n",
    "            dates_dictionary[rnd_date] = fill_date(dates_dictionary[rnd_date],a_articles_per_day, b_articles_per_day,c_articles_per_day,\"C\",10)\n",
    "\n"
   ]
  },
  {
   "attachments": {},
   "cell_type": "markdown",
   "metadata": {},
   "source": [
    "Testing full cycle"
   ]
  },
  {
   "cell_type": "code",
   "execution_count": 33,
   "metadata": {},
   "outputs": [],
   "source": [
    "dates_dictionary = date_generation_process(5, 2023, holidays)\n",
    "sqlgen.reset_database_quantity_for_article(\"abc_quantity.db\", \"abc\")"
   ]
  },
  {
   "cell_type": "code",
   "execution_count": 34,
   "metadata": {},
   "outputs": [],
   "source": [
    "Assignation_process()"
   ]
  },
  {
   "cell_type": "code",
   "execution_count": 35,
   "metadata": {},
   "outputs": [
    {
     "name": "stdout",
     "output_type": "stream",
     "text": [
      "01-05-2023 14\n",
      "02-05-2023 14\n",
      "03-05-2023 14\n",
      "06-05-2023 0\n",
      "08-05-2023 10\n",
      "09-05-2023 14\n",
      "10-05-2023 14\n",
      "11-05-2023 14\n",
      "12-05-2023 14\n",
      "13-05-2023 14\n",
      "15-05-2023 14\n",
      "16-05-2023 14\n",
      "17-05-2023 14\n",
      "18-05-2023 14\n",
      "19-05-2023 15\n",
      "20-05-2023 14\n",
      "22-05-2023 14\n",
      "23-05-2023 14\n",
      "24-05-2023 11\n",
      "25-05-2023 14\n",
      "26-05-2023 14\n",
      "27-05-2023 14\n",
      "29-05-2023 13\n",
      "30-05-2023 14\n",
      "31-05-2023 14\n"
     ]
    }
   ],
   "source": [
    "for i in dates_dictionary:\n",
    "    print(i, len(dates_dictionary[i]))"
   ]
  },
  {
   "cell_type": "code",
   "execution_count": 39,
   "metadata": {},
   "outputs": [
    {
     "data": {
      "text/plain": [
       "False"
      ]
     },
     "execution_count": 39,
     "metadata": {},
     "output_type": "execute_result"
    }
   ],
   "source": [
    "sqlgen.check_if_item_without_count(\"abc_quantity.db\",\"abc\")"
   ]
  },
  {
   "cell_type": "code",
   "execution_count": null,
   "metadata": {},
   "outputs": [],
   "source": []
  }
 ],
 "metadata": {
  "kernelspec": {
   "display_name": "data_env",
   "language": "python",
   "name": "python3"
  },
  "language_info": {
   "codemirror_mode": {
    "name": "ipython",
    "version": 3
   },
   "file_extension": ".py",
   "mimetype": "text/x-python",
   "name": "python",
   "nbconvert_exporter": "python",
   "pygments_lexer": "ipython3",
   "version": "3.9.7"
  },
  "orig_nbformat": 4
 },
 "nbformat": 4,
 "nbformat_minor": 2
}
